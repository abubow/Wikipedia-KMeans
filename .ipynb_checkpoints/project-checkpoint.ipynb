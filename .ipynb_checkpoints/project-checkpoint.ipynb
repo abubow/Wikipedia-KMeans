{
 "cells": [
  {
   "cell_type": "markdown",
   "metadata": {},
   "source": [
    "# Kmeans Clustering "
   ]
  },
  {
   "cell_type": "markdown",
   "metadata": {},
   "source": [
    "Libraries used in this code are"
   ]
  },
  {
   "cell_type": "code",
   "execution_count": 1,
   "metadata": {},
   "outputs": [
    {
     "name": "stderr",
     "output_type": "stream",
     "text": [
      "[nltk_data] Downloading package stopwords to\n",
      "[nltk_data]     C:\\Users\\a\\AppData\\Roaming\\nltk_data...\n",
      "[nltk_data]   Unzipping corpora\\stopwords.zip.\n",
      "[nltk_data] Downloading package punkt to\n",
      "[nltk_data]     C:\\Users\\a\\AppData\\Roaming\\nltk_data...\n",
      "[nltk_data]   Package punkt is already up-to-date!\n"
     ]
    }
   ],
   "source": [
    "import wikipedia\n",
    "import re\n",
    "import numpy as np\n",
    "import pandas as pd\n",
    "import matplotlib.pyplot as plt\n",
    "import seaborn as sns\n",
    "import nltk\n",
    "nltk.download('stopwords')\n",
    "nltk.download('punkt')\n",
    "from nltk.corpus import stopwords"
   ]
  },
  {
   "cell_type": "markdown",
   "metadata": {},
   "source": [
    "getting stop words from nltk"
   ]
  },
  {
   "cell_type": "code",
   "execution_count": 2,
   "metadata": {},
   "outputs": [],
   "source": [
    "stop_words = set(stopwords.words('english'))"
   ]
  },
  {
   "cell_type": "markdown",
   "metadata": {},
   "source": [
    "Making a function to remove non-alphabatic characters from a string and a function to remove stopwords"
   ]
  },
  {
   "cell_type": "code",
   "execution_count": 3,
   "metadata": {},
   "outputs": [],
   "source": [
    "def removeNonAlphbets(word):\n",
    "    text = re.sub(\"[^a-zA-Z]\", \"\", word)\n",
    "    re.sub(' +', '', text)\n",
    "    return text"
   ]
  },
  {
   "cell_type": "code",
   "execution_count": 4,
   "metadata": {},
   "outputs": [],
   "source": [
    "def removeStopWords(arr):\n",
    "    return [w for w in arr if not w.lower() in stop_words]"
   ]
  },
  {
   "cell_type": "markdown",
   "metadata": {},
   "source": [
    "Function to create a dictionary of words that occur in the article to base the clustering on"
   ]
  },
  {
   "cell_type": "code",
   "execution_count": 5,
   "metadata": {},
   "outputs": [],
   "source": [
    "def createDictionaryOfAllWords(aritcle):\n",
    "    createDictionaryOfAllWords.dictionary = {}\n",
    "    arr = aritcle.split(\" \")\n",
    "    for i in range(len(arr)):\n",
    "        arr[i] = removeNonAlphbets(arr[i])\n",
    "    unique_words = set(arr)\n",
    "    for i in unique_words:\n",
    "        if i not in createDictionaryOfAllWords.dictionary.keys():\n",
    "            createDictionaryOfAllWords.dictionary[i] = 0\n",
    "    return createDictionaryOfAllWords.dictionary"
   ]
  },
  {
   "cell_type": "markdown",
   "metadata": {},
   "source": [
    "Euclidean distance function to calculate the distance between two vectors"
   ]
  },
  {
   "cell_type": "code",
   "execution_count": 6,
   "metadata": {},
   "outputs": [],
   "source": [
    "\n",
    "def euclidean_distance(x1, x2):\n",
    "    return np.sqrt(np.sum((x1 - x2) ** 2))"
   ]
  },
  {
   "cell_type": "markdown",
   "metadata": {},
   "source": [
    "Kmeans clustering function"
   ]
  },
  {
   "cell_type": "code",
   "execution_count": 7,
   "metadata": {},
   "outputs": [],
   "source": [
    "def get_clusters(data, k):\n",
    "    centroids = data.sample(n=k)\n",
    "    clusters = [[] for _ in centroids.index]\n",
    "    if type(data) is pd.DataFrame:\n",
    "        while True:\n",
    "            old_centroids = centroids.copy()\n",
    "            for i in data.index:\n",
    "                distances = []\n",
    "                for j in centroids.index:\n",
    "                    distances.append(euclidean_distance(data.loc[i], centroids.loc[j]))\n",
    "                clusters[distances.index(np.min(distances))].append([x for x in data.loc[i]])\n",
    "            if old_centroids.equals(centroids):\n",
    "                break\n",
    "            for i in range(k):\n",
    "                centroids[i] = np.mean(clusters[i], axis=0)\n",
    "    else:\n",
    "        while True:\n",
    "            old_centroids = centroids.copy()\n",
    "            for i in data.index:\n",
    "                distances = []\n",
    "                for j in centroids.index:\n",
    "                    distances.append(euclidean_distance(data[i], centroids[j]))\n",
    "                clusters[distances.index(np.min(distances))].append(data[i])\n",
    "            if old_centroids.equals(centroids):\n",
    "                break\n",
    "            for i in range(k):\n",
    "                centroids[i] = np.mean(clusters[i], axis=0)\n",
    "\n",
    "    return centroids, clusters"
   ]
  },
  {
   "cell_type": "markdown",
   "metadata": {},
   "source": [
    "Function to create a dictionary of words that occur in the article to base the clustering on"
   ]
  },
  {
   "cell_type": "code",
   "execution_count": 8,
   "metadata": {},
   "outputs": [],
   "source": [
    "def frequency(article):\n",
    "    dictionary = {}\n",
    "    arr = article.strip().split(\" \")\n",
    "    for i in range(len(arr)):\n",
    "        arr[i] = removeNonAlphbets(arr[i])\n",
    "    arr = removeStopWords(arr)\n",
    "    unique_words = set(arr)\n",
    "    for i in unique_words:\n",
    "        if i not in dictionary.keys():\n",
    "            dictionary[i] = 1\n",
    "    for i in unique_words:\n",
    "        dictionary[i]=arr.count(i)\n",
    "    return dictionary"
   ]
  },
  {
   "cell_type": "markdown",
   "metadata": {},
   "source": [
    "Reading the index file containing the article titles, getting the article content from wikipedia and creating a dictionary of words that occur in the article to base the clustering on"
   ]
  },
  {
   "cell_type": "code",
   "execution_count": 10,
   "metadata": {},
   "outputs": [
    {
     "name": "stdout",
     "output_type": "stream",
     "text": [
      "article20 : AccessibleComputing\n",
      "\n",
      "article19 : Anarchism\n",
      "\n",
      "article18 : AfghanistanHistory\n",
      "\n",
      "article17 : AfghanistanGeography\n",
      "\n",
      "article16 : AfghanistanPeople\n",
      "\n",
      "article15 : AfghanistanCommunications\n",
      "\n",
      "article14 : AfghanistanTransportations\n",
      "\n",
      "article13 : AfghanistanMilitary\n",
      "\n",
      "article12 : AfghanistanTransnationalIssues\n",
      "\n",
      "article11 : AssistiveTechnology\n",
      "\n",
      "article10 : AmoeboidTaxa\n",
      "\n",
      "article9 : AlbaniaHistory\n",
      "\n",
      "article8 : AlbaniaPeople\n",
      "\n",
      "article7 : AsWeMayThink\n",
      "\n",
      "article6 : AlbaniaGovernment\n",
      "\n",
      "article5 : AlbaniaEconomy\n",
      "\n",
      "article4 : AfroAsiaticLanguages\n",
      "\n",
      "article3 : ArtificalLanguages\n",
      "\n",
      "article2 : AbacuS\n",
      "\n",
      "article1 : AbalonE\n",
      "\n"
     ]
    }
   ],
   "source": [
    "AllDict = {}\n",
    "articleDictionaries = []\n",
    "count = 20 #number of articles to be used\n",
    "with open(\"D:/Wikipedia/wikipedia/enwiki-20220401-pages-articles-multistream-index.txt\") as infile:\n",
    "    \n",
    "    articles = []\n",
    "    for line in infile:\n",
    "        arr = line.split(':')\n",
    "        print(\"article{} : {}\".format(count, arr[2]))\n",
    "        article = wikipedia.page(arr[2]).content\n",
    "        articles.append([arr[2], article])\n",
    "        count -= 1\n",
    "        if count <= 0:\n",
    "            break\n",
    "    for article in articles:\n",
    "        articleDictionaries.append(frequency(article[1]))\n",
    "        dictF = createDictionaryOfAllWords(article[1])\n",
    "        for (i, j) in dictF.items():\n",
    "            AllDict[i] = j\n",
    "\n",
    "    for i in range(len(articleDictionaries)):\n",
    "        for n, v in AllDict.items():\n",
    "            if n not in articleDictionaries[i]:\n",
    "                articleDictionaries[i][n] = 0"
   ]
  },
  {
   "cell_type": "markdown",
   "metadata": {},
   "source": [
    "Wrting the frequency of each word in the article to a csv file"
   ]
  },
  {
   "cell_type": "code",
   "execution_count": 31,
   "metadata": {},
   "outputs": [],
   "source": [
    "with open(\"input.csv\", 'w') as file:\n",
    "    (k := next(iter(AllDict)), AllDict.pop(k))\n",
    "    size = len(AllDict)\n",
    "    for i in AllDict.keys():\n",
    "        size-=1\n",
    "        if size == 0:\n",
    "            file.write(i)\n",
    "        else:\n",
    "            file.write(i + \",\")\n",
    "    file.write(\"\\n\")\n",
    "    for itr in range(len(articleDictionaries)):\n",
    "        for i, v in AllDict.items():\n",
    "            file.write(\"{},\".format(articleDictionaries[itr][i]))\n",
    "        file.write(\"\\n\")"
   ]
  },
  {
   "cell_type": "code",
   "execution_count": 32,
   "metadata": {},
   "outputs": [
    {
     "data": {
      "text/html": [
       "<div>\n",
       "<style scoped>\n",
       "    .dataframe tbody tr th:only-of-type {\n",
       "        vertical-align: middle;\n",
       "    }\n",
       "\n",
       "    .dataframe tbody tr th {\n",
       "        vertical-align: top;\n",
       "    }\n",
       "\n",
       "    .dataframe thead th {\n",
       "        text-align: right;\n",
       "    }\n",
       "</style>\n",
       "<table border=\"1\" class=\"dataframe\">\n",
       "  <thead>\n",
       "    <tr style=\"text-align: right;\">\n",
       "      <th></th>\n",
       "      <th>dragged</th>\n",
       "      <th>development</th>\n",
       "      <th>He</th>\n",
       "      <th>another</th>\n",
       "      <th>properly</th>\n",
       "      <th>their</th>\n",
       "      <th>able</th>\n",
       "      <th>External</th>\n",
       "      <th>ClickLock</th>\n",
       "      <th>aid</th>\n",
       "      <th>...</th>\n",
       "      <th>Arturius</th>\n",
       "      <th>Excalibur</th>\n",
       "      <th>Mordreds</th>\n",
       "      <th>Altar</th>\n",
       "      <th>narrative</th>\n",
       "      <th>Salazars</th>\n",
       "      <th>faery</th>\n",
       "      <th>guarded</th>\n",
       "      <th>relocate</th>\n",
       "      <th>eas</th>\n",
       "    </tr>\n",
       "  </thead>\n",
       "  <tbody>\n",
       "    <tr>\n",
       "      <th>0</th>\n",
       "      <td>1</td>\n",
       "      <td>3</td>\n",
       "      <td>0</td>\n",
       "      <td>1</td>\n",
       "      <td>2</td>\n",
       "      <td>0</td>\n",
       "      <td>2</td>\n",
       "      <td>1</td>\n",
       "      <td>1</td>\n",
       "      <td>1</td>\n",
       "      <td>...</td>\n",
       "      <td>0</td>\n",
       "      <td>0</td>\n",
       "      <td>0</td>\n",
       "      <td>0</td>\n",
       "      <td>0</td>\n",
       "      <td>0</td>\n",
       "      <td>0</td>\n",
       "      <td>0</td>\n",
       "      <td>0</td>\n",
       "      <td>0</td>\n",
       "    </tr>\n",
       "    <tr>\n",
       "      <th>1</th>\n",
       "      <td>0</td>\n",
       "      <td>2</td>\n",
       "      <td>0</td>\n",
       "      <td>2</td>\n",
       "      <td>1</td>\n",
       "      <td>0</td>\n",
       "      <td>1</td>\n",
       "      <td>1</td>\n",
       "      <td>0</td>\n",
       "      <td>2</td>\n",
       "      <td>...</td>\n",
       "      <td>0</td>\n",
       "      <td>0</td>\n",
       "      <td>0</td>\n",
       "      <td>0</td>\n",
       "      <td>0</td>\n",
       "      <td>0</td>\n",
       "      <td>0</td>\n",
       "      <td>0</td>\n",
       "      <td>0</td>\n",
       "      <td>0</td>\n",
       "    </tr>\n",
       "    <tr>\n",
       "      <th>2</th>\n",
       "      <td>0</td>\n",
       "      <td>0</td>\n",
       "      <td>0</td>\n",
       "      <td>11</td>\n",
       "      <td>0</td>\n",
       "      <td>0</td>\n",
       "      <td>5</td>\n",
       "      <td>1</td>\n",
       "      <td>0</td>\n",
       "      <td>2</td>\n",
       "      <td>...</td>\n",
       "      <td>0</td>\n",
       "      <td>0</td>\n",
       "      <td>0</td>\n",
       "      <td>0</td>\n",
       "      <td>0</td>\n",
       "      <td>0</td>\n",
       "      <td>0</td>\n",
       "      <td>0</td>\n",
       "      <td>0</td>\n",
       "      <td>0</td>\n",
       "    </tr>\n",
       "    <tr>\n",
       "      <th>3</th>\n",
       "      <td>0</td>\n",
       "      <td>0</td>\n",
       "      <td>0</td>\n",
       "      <td>0</td>\n",
       "      <td>0</td>\n",
       "      <td>0</td>\n",
       "      <td>0</td>\n",
       "      <td>1</td>\n",
       "      <td>0</td>\n",
       "      <td>0</td>\n",
       "      <td>...</td>\n",
       "      <td>0</td>\n",
       "      <td>0</td>\n",
       "      <td>0</td>\n",
       "      <td>0</td>\n",
       "      <td>0</td>\n",
       "      <td>0</td>\n",
       "      <td>0</td>\n",
       "      <td>0</td>\n",
       "      <td>0</td>\n",
       "      <td>0</td>\n",
       "    </tr>\n",
       "    <tr>\n",
       "      <th>4</th>\n",
       "      <td>0</td>\n",
       "      <td>0</td>\n",
       "      <td>0</td>\n",
       "      <td>0</td>\n",
       "      <td>0</td>\n",
       "      <td>0</td>\n",
       "      <td>0</td>\n",
       "      <td>1</td>\n",
       "      <td>0</td>\n",
       "      <td>0</td>\n",
       "      <td>...</td>\n",
       "      <td>0</td>\n",
       "      <td>0</td>\n",
       "      <td>0</td>\n",
       "      <td>0</td>\n",
       "      <td>0</td>\n",
       "      <td>0</td>\n",
       "      <td>0</td>\n",
       "      <td>0</td>\n",
       "      <td>0</td>\n",
       "      <td>0</td>\n",
       "    </tr>\n",
       "  </tbody>\n",
       "</table>\n",
       "<p>5 rows × 13220 columns</p>\n",
       "</div>"
      ],
      "text/plain": [
       "   dragged  development  He  another  properly  their  able  External  \\\n",
       "0        1            3   0        1         2      0     2         1   \n",
       "1        0            2   0        2         1      0     1         1   \n",
       "2        0            0   0       11         0      0     5         1   \n",
       "3        0            0   0        0         0      0     0         1   \n",
       "4        0            0   0        0         0      0     0         1   \n",
       "\n",
       "   ClickLock  aid  ...  Arturius  Excalibur  Mordreds  Altar  narrative  \\\n",
       "0          1    1  ...         0          0         0      0          0   \n",
       "1          0    2  ...         0          0         0      0          0   \n",
       "2          0    2  ...         0          0         0      0          0   \n",
       "3          0    0  ...         0          0         0      0          0   \n",
       "4          0    0  ...         0          0         0      0          0   \n",
       "\n",
       "   Salazars  faery  guarded  relocate  eas  \n",
       "0         0      0        0         0    0  \n",
       "1         0      0        0         0    0  \n",
       "2         0      0        0         0    0  \n",
       "3         0      0        0         0    0  \n",
       "4         0      0        0         0    0  \n",
       "\n",
       "[5 rows x 13220 columns]"
      ]
     },
     "execution_count": 32,
     "metadata": {},
     "output_type": "execute_result"
    }
   ],
   "source": [
    "k = 3\n",
    "data = pd.read_csv('input.csv', index_col=False)\n",
    "data = data.fillna('0').astype(int)\n",
    "data.head()"
   ]
  },
  {
   "cell_type": "code",
   "execution_count": 68,
   "metadata": {},
   "outputs": [
    {
     "name": "stdout",
     "output_type": "stream",
     "text": [
      "<class 'list'>\n"
     ]
    },
    {
     "data": {
      "image/png": "[encoded data removed]",
      "text/plain": [
       "<Figure size 432x288 with 1 Axes>"
      ]
     },
     "metadata": {
      "needs_background": "light"
     },
     "output_type": "display_data"
    }
   ],
   "source": [
    "centeroids , clusters = get_clusters(data, k)\n",
    "colors = ['red', 'green', 'blue']\n",
    "markers = ['o', 'v', 's']\n",
    "\n",
    "# convert to dataframe\n",
    "df_clusters = []\n",
    "columns = [i for i in data.columns]\n",
    "for i in range(len(clusters)):\n",
    "    df_clusters.append(pd.DataFrame(columns=columns, data=clusters[i]))\n",
    "\n",
    "print(type(columns))\n",
    "# plot clusters\n",
    "for i in range(len(clusters)):\n",
    "    for j in range(len(columns)//100):\n",
    "        plt.scatter(df_clusters[i][columns[j]], df_clusters[i][columns[j+1]], c=colors[i], marker=markers[i])\n",
    "        j+=1\n",
    "plt.xlim(-1, 20)\n",
    "plt.ylim(-1,20)\n",
    "plt.show()\n"
   ]
  },
  {
   "cell_type": "markdown",
   "metadata": {},
   "source": [
    "### it may seem like the clusters overlap however they do not in the n dimensions of the data"
   ]
  }
 ],
 "metadata": {
  "kernelspec": {
   "display_name": "Python 3 (ipykernel)",
   "language": "python",
   "name": "python3"
  },
  "language_info": {
   "codemirror_mode": {
    "name": "ipython",
    "version": 3
   },
   "file_extension": ".py",
   "mimetype": "text/x-python",
   "name": "python",
   "nbconvert_exporter": "python",
   "pygments_lexer": "ipython3",
   "version": "3.9.7"
  },
  "vscode": {
   "interpreter": {
    "hash": "d058ec774b5c34f18eda38579024d1056efd0b5cb515dc45fede227d42f2ef30"
   }
  }
 },
 "nbformat": 4,
 "nbformat_minor": 2
}
